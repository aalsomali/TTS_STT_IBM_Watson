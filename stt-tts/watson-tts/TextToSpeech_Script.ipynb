{
 "cells": [
  {
   "cell_type": "markdown",
   "id": "5f462afc",
   "metadata": {},
   "source": [
    "# 0. Install Dependensies"
   ]
  },
  {
   "cell_type": "code",
   "execution_count": 1,
   "id": "6ca2408e",
   "metadata": {},
   "outputs": [
    {
     "name": "stdout",
     "output_type": "stream",
     "text": [
      "Collecting ibm_watson\n",
      "  Downloading ibm-watson-5.2.2.tar.gz (407 kB)\n",
      "  Installing build dependencies: started\n",
      "  Installing build dependencies: finished with status 'done'\n",
      "  Getting requirements to build wheel: started\n",
      "  Getting requirements to build wheel: finished with status 'done'\n",
      "    Preparing wheel metadata: started\n",
      "    Preparing wheel metadata: finished with status 'done'\n",
      "Requirement already satisfied: requests<3.0,>=2.0 in c:\\users\\milo\\appdata\\local\\programs\\python\\python39\\lib\\site-packages (from ibm_watson) (2.26.0)\n",
      "Requirement already satisfied: python-dateutil>=2.5.3 in c:\\users\\milo\\appdata\\local\\programs\\python\\python39\\lib\\site-packages (from ibm_watson) (2.8.2)\n",
      "Collecting ibm-cloud-sdk-core==3.*,>=3.3.6\n",
      "  Downloading ibm-cloud-sdk-core-3.10.1.tar.gz (40 kB)\n",
      "Requirement already satisfied: websocket-client==1.1.0 in c:\\users\\milo\\appdata\\local\\programs\\python\\python39\\lib\\site-packages (from ibm_watson) (1.1.0)\n",
      "Collecting PyJWT<3.0.0,>=2.0.1\n",
      "  Downloading PyJWT-2.1.0-py3-none-any.whl (16 kB)\n",
      "Requirement already satisfied: six>=1.5 in c:\\users\\milo\\appdata\\local\\programs\\python\\python39\\lib\\site-packages (from python-dateutil>=2.5.3->ibm_watson) (1.16.0)\n",
      "Requirement already satisfied: idna<4,>=2.5 in c:\\users\\milo\\appdata\\local\\programs\\python\\python39\\lib\\site-packages (from requests<3.0,>=2.0->ibm_watson) (3.2)\n",
      "Requirement already satisfied: urllib3<1.27,>=1.21.1 in c:\\users\\milo\\appdata\\local\\programs\\python\\python39\\lib\\site-packages (from requests<3.0,>=2.0->ibm_watson) (1.26.6)\n",
      "Requirement already satisfied: charset-normalizer~=2.0.0 in c:\\users\\milo\\appdata\\local\\programs\\python\\python39\\lib\\site-packages (from requests<3.0,>=2.0->ibm_watson) (2.0.3)\n",
      "Requirement already satisfied: certifi>=2017.4.17 in c:\\users\\milo\\appdata\\local\\programs\\python\\python39\\lib\\site-packages (from requests<3.0,>=2.0->ibm_watson) (2021.5.30)\n",
      "Using legacy 'setup.py install' for ibm-cloud-sdk-core, since package 'wheel' is not installed.\n",
      "Building wheels for collected packages: ibm-watson\n",
      "  Building wheel for ibm-watson (PEP 517): started\n",
      "  Building wheel for ibm-watson (PEP 517): finished with status 'done'\n",
      "  Created wheel for ibm-watson: filename=ibm_watson-5.2.2-py3-none-any.whl size=403389 sha256=778db21211fb4a6a1a5174eaaee966f18e80b0ab5e95623040d7c06b267b3df9\n",
      "  Stored in directory: c:\\users\\milo\\appdata\\local\\pip\\cache\\wheels\\34\\e8\\df\\99bea14508f3730b081509ae94a9fb3e876f33aeb465688532\n",
      "Successfully built ibm-watson\n",
      "Installing collected packages: PyJWT, ibm-cloud-sdk-core, ibm-watson\n",
      "    Running setup.py install for ibm-cloud-sdk-core: started\n",
      "    Running setup.py install for ibm-cloud-sdk-core: finished with status 'done'\n",
      "Successfully installed PyJWT-2.1.0 ibm-cloud-sdk-core-3.10.1 ibm-watson-5.2.2\n"
     ]
    }
   ],
   "source": [
    "!pip install ibm_watson"
   ]
  },
  {
   "cell_type": "markdown",
   "id": "99a78e9b",
   "metadata": {},
   "source": [
    "# 1. Authenticate"
   ]
  },
  {
   "cell_type": "code",
   "execution_count": 2,
   "id": "540f488d",
   "metadata": {},
   "outputs": [],
   "source": [
    "url = 'https://api.us-south.text-to-speech.watson.cloud.ibm.com/instances/b8c31721-2790-41cf-aad7-bbd483b4807a'\n",
    "apikey = 'Vc5xI2Mh1jZH5bgN0SASa1vN_VOo1oJ5rP898OuoynCo'"
   ]
  },
  {
   "cell_type": "code",
   "execution_count": 4,
   "id": "277db21c",
   "metadata": {},
   "outputs": [],
   "source": [
    "from ibm_watson import TextToSpeechV1\n",
    "from ibm_cloud_sdk_core.authenticators import IAMAuthenticator"
   ]
  },
  {
   "cell_type": "code",
   "execution_count": 5,
   "id": "c414b6d1",
   "metadata": {},
   "outputs": [],
   "source": [
    "# Setup Service\n",
    "authenticator = IAMAuthenticator(apikey)\n",
    "# New TTS Service\n",
    "tts = TextToSpeechV1(authenticator=authenticator)\n",
    "# Set Service URL\n",
    "tts.set_service_url(url)"
   ]
  },
  {
   "cell_type": "markdown",
   "id": "bf30dc47",
   "metadata": {},
   "source": [
    "# 2. Convert a String"
   ]
  },
  {
   "cell_type": "code",
   "execution_count": 6,
   "id": "a90ad2eb",
   "metadata": {},
   "outputs": [],
   "source": [
    "with open('./speech.mp3', 'wb') as audio_file:\n",
    "    res = tts.synthesize('Hello World', accept='audio/mp3', voice='en-US_AllisonV3Voice').get_result()\n",
    "    audio_file.write(res.content)"
   ]
  },
  {
   "cell_type": "markdown",
   "id": "f83305a5",
   "metadata": {},
   "source": [
    "# 3. Convert from a File"
   ]
  },
  {
   "cell_type": "code",
   "execution_count": 7,
   "id": "c60d3430",
   "metadata": {},
   "outputs": [],
   "source": [
    "with open('SmartMethods.txt', 'r') as f:\n",
    "    text = f.readlines()"
   ]
  },
  {
   "cell_type": "code",
   "execution_count": 8,
   "id": "b6cc45dd",
   "metadata": {},
   "outputs": [
    {
     "data": {
      "text/plain": [
       "['Smart Methods is a national commercial corporation established in 2010 and registered in the Ministry of Commerce, Specialized in automated machine, robots and artificial intelligence. The commercial facility is considered as the first in the service of researchers and innovators in Arab world, and classified by Forbes magazine as one of the most innovative companies in the Kingdom of Saudi Arabia in the latest classification in 2015.']"
      ]
     },
     "execution_count": 8,
     "metadata": {},
     "output_type": "execute_result"
    }
   ],
   "source": [
    "text"
   ]
  },
  {
   "cell_type": "code",
   "execution_count": 9,
   "id": "71263075",
   "metadata": {},
   "outputs": [],
   "source": [
    "text = [line.replace('\\n', '') for line in text]\n",
    "text = ''.join(str(line) for line in text)"
   ]
  },
  {
   "cell_type": "code",
   "execution_count": 10,
   "id": "f11ba578",
   "metadata": {},
   "outputs": [
    {
     "data": {
      "text/plain": [
       "'Smart Methods is a national commercial corporation established in 2010 and registered in the Ministry of Commerce, Specialized in automated machine, robots and artificial intelligence. The commercial facility is considered as the first in the service of researchers and innovators in Arab world, and classified by Forbes magazine as one of the most innovative companies in the Kingdom of Saudi Arabia in the latest classification in 2015.'"
      ]
     },
     "execution_count": 10,
     "metadata": {},
     "output_type": "execute_result"
    }
   ],
   "source": [
    "text"
   ]
  },
  {
   "cell_type": "code",
   "execution_count": 11,
   "id": "d8fd2b6a",
   "metadata": {},
   "outputs": [],
   "source": [
    "with open('./SmartMethods.mp3', 'wb') as audio_file:\n",
    "    res = tts.synthesize(text, accept='audio/mp3', voice='en-US_AllisonV3Voice').get_result()\n",
    "    audio_file.write(res.content)"
   ]
  },
  {
   "cell_type": "markdown",
   "id": "c4ff59d8",
   "metadata": {},
   "source": [
    "# 4. Using New Language Models"
   ]
  },
  {
   "cell_type": "code",
   "execution_count": 12,
   "id": "e7daebaf",
   "metadata": {},
   "outputs": [],
   "source": [
    "voice = 'ar-MS_OmarVoice'"
   ]
  },
  {
   "cell_type": "code",
   "execution_count": 14,
   "id": "adc34b6e",
   "metadata": {},
   "outputs": [],
   "source": [
    "sm = \"\"\"الاساليب الذكية هي مؤسسة تجارية وطنية تأسست عام 2010 م مسجلة لدى وزارة التجارة ومتخصصة في المعدات الآلية والروبوت والذكاء الصناعي وتعتبر المنشأة التجارية الأولى من نوعها في خدمة الباحثين والمبتكرين في العالم العربي ومصنفة لدى مجلة فوربس العالمية كأحد أكثر الشركات ابداعا في المملكة العربية السعودية في أخر تصنيف عام 2015.\"\"\""
   ]
  },
  {
   "cell_type": "code",
   "execution_count": 15,
   "id": "9c7aa5b6",
   "metadata": {},
   "outputs": [],
   "source": [
    "with open('./ArabicConversion.mp3', 'wb') as audio_file:\n",
    "    res = tts.synthesize(sm, accept='audio/mp3', voice=voice).get_result()\n",
    "    audio_file.write(res.content)"
   ]
  }
 ],
 "metadata": {
  "kernelspec": {
   "display_name": "Python 3 (ipykernel)",
   "language": "python",
   "name": "python3"
  },
  "language_info": {
   "codemirror_mode": {
    "name": "ipython",
    "version": 3
   },
   "file_extension": ".py",
   "mimetype": "text/x-python",
   "name": "python",
   "nbconvert_exporter": "python",
   "pygments_lexer": "ipython3",
   "version": "3.9.6"
  }
 },
 "nbformat": 4,
 "nbformat_minor": 5
}
